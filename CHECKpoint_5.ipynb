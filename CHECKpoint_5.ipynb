{
  "nbformat": 4,
  "nbformat_minor": 0,
  "metadata": {
    "colab": {
      "name": "CHECKpoint.5",
      "provenance": [],
      "collapsed_sections": []
    },
    "kernelspec": {
      "name": "python3",
      "display_name": "Python 3"
    },
    "language_info": {
      "name": "python"
    }
  },
  "cells": [
    {
      "cell_type": "code",
      "execution_count": null,
      "metadata": {
        "id": "sgwcloBi3UK2"
      },
      "outputs": [],
      "source": [
        "#Q1"
      ]
    },
    {
      "cell_type": "code",
      "source": [
        "class point3D:\n",
        "  def __init__(self,x,y,z):\n",
        "    self.x=x\n",
        "    self.y=y\n",
        "    self.z=z\n",
        "  def afficher(self):\n",
        "    return ('donnez les variable {},{},{}'.format(self.x,self.y,self.z))\n",
        "\n",
        "\n",
        "mypoint=point3D(1,2,3)\n",
        "\n",
        "print(mypoint.afficher())"
      ],
      "metadata": {
        "colab": {
          "base_uri": "https://localhost:8080/"
        },
        "id": "heqoy0WT3d6o",
        "outputId": "7c0d76d6-3d73-4f63-a80b-24502796f286"
      },
      "execution_count": 10,
      "outputs": [
        {
          "output_type": "stream",
          "name": "stdout",
          "text": [
            "donnez les variable 1,2,3\n"
          ]
        }
      ]
    },
    {
      "cell_type": "code",
      "source": [
        "#Q2 "
      ],
      "metadata": {
        "id": "5NuG7V_H74pg"
      },
      "execution_count": null,
      "outputs": []
    },
    {
      "cell_type": "code",
      "source": [
        "class rectangle:\n",
        "  def __init__(self,length,width):\n",
        "    self.length=length\n",
        "    self.width=width\n",
        "  def area(self):\n",
        "    return(\"la zone de rectangle est {} \".format(self.length*self.width))\n",
        "  def perimete(self):\n",
        "    return(\"le perimetre est {}\".format(2*(self.length+self.width)))\n",
        "\n",
        "\n",
        "myrectangle=rectangle(3,4)\n",
        "\n",
        "print(myrectangle.area())\n",
        "print(myrectangle.perimete())\n",
        "\n",
        "\n"
      ],
      "metadata": {
        "colab": {
          "base_uri": "https://localhost:8080/"
        },
        "id": "6Bd8VfcR76vo",
        "outputId": "ac35998a-dc93-414e-d1dc-36673b2b0c5b"
      },
      "execution_count": 9,
      "outputs": [
        {
          "output_type": "stream",
          "name": "stdout",
          "text": [
            "la zone de rectangle est 12 \n",
            "le perimetre est 14\n"
          ]
        }
      ]
    },
    {
      "cell_type": "code",
      "source": [
        "#Q3"
      ],
      "metadata": {
        "id": "JKpCeVafEvYI"
      },
      "execution_count": null,
      "outputs": []
    },
    {
      "cell_type": "code",
      "source": [
        "class Circle:\n",
        "  def __init__(self,C1,C2,r):\n",
        "    self.C1=C1\n",
        "    self.C2=C2\n",
        "    self.r=r\n",
        "  def area(self):\n",
        "    return(\"la zone de circle est {}\".format(self.r**2*3.14))\n",
        "  def perimeter(self):\n",
        "    return(\"le perimetre est {}\".format(self.r*2*3.14))\n",
        "  def isinside(self,x,y):\n",
        "    if ((x-self.C1)**2+(y-self.C2)**2<=self.r**2):\n",
        "      return True\n",
        "    else:\n",
        "      return False\n",
        "\n",
        "    \n",
        "\n",
        "\n",
        "mycircle=Circle(-6,3,11)\n",
        "print(mycircle.area())\n",
        "print(mycircle.perimeter())\n",
        "if(mycircle.isinside(3,-3)==True):\n",
        "  print(\"inside\")\n",
        "else:\n",
        "  print(\"outside\")\n",
        "\n",
        "\n"
      ],
      "metadata": {
        "colab": {
          "base_uri": "https://localhost:8080/"
        },
        "id": "hQhOQl4gEynI",
        "outputId": "10d1aefe-c7d2-40dd-d35f-b9131e76fe64"
      },
      "execution_count": 25,
      "outputs": [
        {
          "output_type": "stream",
          "name": "stdout",
          "text": [
            "la zone de circle est 379.94\n",
            "le perimetre est 69.08\n",
            "inside\n"
          ]
        }
      ]
    },
    {
      "cell_type": "code",
      "source": [
        "#Q4"
      ],
      "metadata": {
        "id": "9BWQChQ_Tk1H"
      },
      "execution_count": null,
      "outputs": []
    },
    {
      "cell_type": "code",
      "source": [
        "class bank:\n",
        "  def __init__(self,sold):\n",
        "    self.sold=sold\n",
        "  def deposer(self,somme):\n",
        "    self.sold=self.sold+somme\n",
        "    return self.sold\n",
        "  def retirer(self,somme):\n",
        "    if self.sold<somme:\n",
        "      print(\"solde est insifussant\")\n",
        "    else:\n",
        "      self.sold=self.sold-somme\n",
        "      return self.sold\n",
        "\n",
        "mybank=bank(2000)\n",
        "print(mybank.deposer(4000))\n",
        "print(mybank.retirer(4000))\n",
        "\n"
      ],
      "metadata": {
        "colab": {
          "base_uri": "https://localhost:8080/"
        },
        "id": "fHoMBgCLTnBG",
        "outputId": "c27bcce0-7050-4b46-cb8f-d86f204b0b55"
      },
      "execution_count": 32,
      "outputs": [
        {
          "output_type": "stream",
          "name": "stdout",
          "text": [
            "6000\n",
            "2000\n"
          ]
        }
      ]
    }
  ]
}